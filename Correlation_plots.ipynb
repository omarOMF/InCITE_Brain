{
 "cells": [
  {
   "cell_type": "code",
   "execution_count": null,
   "id": "766c0d6a",
   "metadata": {},
   "outputs": [],
   "source": [
    "filtered=sc.read('Capillaries_INCITE_object.h5ad')"
   ]
  },
  {
   "cell_type": "code",
   "execution_count": null,
   "id": "88ec3fb0",
   "metadata": {},
   "outputs": [],
   "source": [
    "filtered.obs['did'] = filtered.obs['DiseaseState'].astype(str) + \"_\" + filtered.obs['SampleID'].astype(str) + filtered.obs['Sex'].astype(str)\n",
    "# Compute the cell counts for each did\n",
    "cell_counts = filtered.obs['did'].value_counts()\n",
    "\n",
    "# Map these counts to the did column in adata.obs\n",
    "filtered.obs['cell_count'] = filtered.obs['did'].map(cell_counts)\n"
   ]
  },
  {
   "cell_type": "code",
   "execution_count": null,
   "id": "738a6302",
   "metadata": {},
   "outputs": [],
   "source": [
    "filtered"
   ]
  },
  {
   "cell_type": "code",
   "execution_count": null,
   "id": "844af82b",
   "metadata": {},
   "outputs": [],
   "source": [
    "ind_count"
   ]
  },
  {
   "cell_type": "code",
   "execution_count": null,
   "id": "8ae6cee9",
   "metadata": {},
   "outputs": [],
   "source": [
    "disease_colors <- c(\n",
    "  \"AD\" = \"#FF0000\",      # Bright red\n",
    "  \"OldCtrl\" = \"#0000FF\", # Bright blue\n",
    "  \"ALS\" = \"#D32F2F\",     # Darker shade of red\n",
    "  \"YngCtrl\" = \"#4682B4\", # Steel blue\n",
    "  \"FTD\" = \"#E57373\"      # Light muted red\n",
    ")\n"
   ]
  },
  {
   "cell_type": "code",
   "execution_count": null,
   "id": "77f5c267",
   "metadata": {},
   "outputs": [],
   "source": [
    "sc.settings.set_figure_params(dpi=100)\n",
    "\n",
    "all_ind_count = filtered.obs.groupby('SampleID').size().reset_index(name='all_count_sum')\n",
    "\n",
    "for cluster in filtered.obs['final_leiden'].unique():\n",
    "    # Subset data for current cluster\n",
    "    c = filtered[filtered.obs[\"final_leiden\"].isin([cluster])]\n",
    "    \n",
    "    # Compute counts for this cluster\n",
    "    ind_count = c.obs.groupby(['SampleID', 'DiseaseState', 'final_leiden'], observed=True).size().reset_index(name='counts')\n",
    "   # ind_count = ind_count[ind_count['DiseaseState'] != 'YngCtrl']\n",
    "    ind_count['counts'] = ind_count['counts'].astype('float')\n",
    "    mapped_series = ind_count['SampleID'].map(all_ind_count.set_index('SampleID')['all_count_sum'])\n",
    "    mapped_series = mapped_series.astype('float64')\n",
    "\n",
    "    ind_perc = (ind_count['counts'] / mapped_series) * 100\n",
    "    # Add percentage column to the count data\n",
    "    ind_count['cluster_perc'] = ind_perc\n",
    "    \n",
    "    # Merge with Age column\n",
    "    ind_count = pd.merge(ind_count, filtered.obs[['SampleID', 'Age']], on='SampleID', how='left')\n",
    "    \n",
    "    # Convert 'Age' column to numeric\n",
    "    ind_count['Age'] = pd.to_numeric(ind_count['Age'], errors='coerce')\n",
    "    ind_count['Age'] = pd.to_numeric(ind_count['Age'], errors='coerce')\n",
    "    ind_count['cluster_perc'] = pd.to_numeric(ind_count['cluster_perc'], errors='coerce')\n",
    "\n",
    "    # Plot\n",
    "    plt.figure()\n",
    "    sns.regplot(x='Age', y='cluster_perc', data=ind_count, ci=99, scatter=False)  # Added ci=95 here\n",
    "    ax = sns.scatterplot(x='Age', y='cluster_perc', hue='DiseaseState', data=ind_count, \n",
    "                         palette = [\"#FF0000\", \"#D32F2F\", \"#E57373\", '#0000FF', '#4682B4'], s=100)\n",
    "    #'#5c8c44', '#a724f2', '#bd4dca', '#cc62cb', '#f7b363'\n",
    "   # \"#E63946\", \"#DAA520\", \"#A8DADC\", \"#457B9D\", \"#1D3557\"\n",
    "    ax.legend(loc='center left', bbox_to_anchor=(1, 0.5))\n",
    "    plt.ylabel(f'Proportion of Cells in Cluster {cluster}')\n",
    "    plt.xlabel('Age')\n",
    "    plt.grid(False)\n",
    "    plt.savefig(f'Cluster_{cluster}_vs_Age.png', bbox_inches='tight')\n",
    "    \n",
    "    # Spearman correlation\n",
    "    correlation, p_value = stats.spearmanr(ind_count['Age'], ind_count['cluster_perc'].fillna(0))\n",
    "    print(f\"Cluster {cluster} - Spearman correlation:\", correlation, \"P-value:\", p_value)\n"
   ]
  }
 ],
 "metadata": {
  "kernelspec": {
   "display_name": "Python 3 (ipykernel)",
   "language": "python",
   "name": "python3"
  },
  "language_info": {
   "codemirror_mode": {
    "name": "ipython",
    "version": 3
   },
   "file_extension": ".py",
   "mimetype": "text/x-python",
   "name": "python",
   "nbconvert_exporter": "python",
   "pygments_lexer": "ipython3",
   "version": "3.11.0"
  }
 },
 "nbformat": 4,
 "nbformat_minor": 5
}
